{
  "nbformat": 4,
  "nbformat_minor": 0,
  "metadata": {
    "colab": {
      "private_outputs": true,
      "provenance": [],
      "gpuType": "T4",
      "mount_file_id": "1iS-gW05ISLw7WboPCQNoOjq-PScp3PXk",
      "authorship_tag": "ABX9TyMbE+hKnK/j3XiJKRv035cE",
      "include_colab_link": true
    },
    "kernelspec": {
      "name": "python3",
      "display_name": "Python 3"
    },
    "language_info": {
      "name": "python"
    },
    "accelerator": "GPU"
  },
  "cells": [
    {
      "cell_type": "markdown",
      "metadata": {
        "id": "view-in-github",
        "colab_type": "text"
      },
      "source": [
        "<a href=\"https://colab.research.google.com/github/Manish-Singh-Mehra/Analysis/blob/main/Data_Analysis.ipynb\" target=\"_parent\"><img src=\"https://colab.research.google.com/assets/colab-badge.svg\" alt=\"Open In Colab\"/></a>"
      ]
    },
    {
      "cell_type": "code",
      "execution_count": null,
      "metadata": {
        "id": "9i0vs35Osvmm"
      },
      "outputs": [],
      "source": [
        "import pandas as pd"
      ]
    },
    {
      "cell_type": "code",
      "source": [
        "df = pd.read_csv('Random CA Person.csv')"
      ],
      "metadata": {
        "id": "82xByAVutC4a"
      },
      "execution_count": null,
      "outputs": []
    },
    {
      "cell_type": "code",
      "source": [
        "df.head()"
      ],
      "metadata": {
        "id": "TiIGu225tbWV"
      },
      "execution_count": null,
      "outputs": []
    },
    {
      "cell_type": "code",
      "source": [
        "data = df"
      ],
      "metadata": {
        "id": "Q7UkoY-Q7kj7"
      },
      "execution_count": null,
      "outputs": []
    },
    {
      "cell_type": "code",
      "source": [
        "data.isnull().sum()"
      ],
      "metadata": {
        "id": "TOW4BnVttcaB"
      },
      "execution_count": null,
      "outputs": []
    },
    {
      "cell_type": "code",
      "source": [
        "data.info()"
      ],
      "metadata": {
        "id": "ApWjN6X6OyjE"
      },
      "execution_count": null,
      "outputs": []
    },
    {
      "cell_type": "code",
      "source": [
        "data.describe()"
      ],
      "metadata": {
        "id": "2NTaN7dbO0CJ"
      },
      "execution_count": null,
      "outputs": []
    },
    {
      "cell_type": "code",
      "source": [
        "data['ipAddress'].fillna(method='ffill', inplace=True)\n",
        "data.isnull().sum()"
      ],
      "metadata": {
        "id": "hkVaRdUbO74A"
      },
      "execution_count": null,
      "outputs": []
    },
    {
      "cell_type": "code",
      "source": [
        "data.head()"
      ],
      "metadata": {
        "id": "HQRhr2EQPGMU"
      },
      "execution_count": null,
      "outputs": []
    },
    {
      "cell_type": "code",
      "source": [
        "data.isnull().sum()"
      ],
      "metadata": {
        "id": "96aWtYsAUcJg"
      },
      "execution_count": null,
      "outputs": []
    },
    {
      "cell_type": "code",
      "source": [
        "data.dropna(subset=['eventFlag'], inplace=True)"
      ],
      "metadata": {
        "id": "jdxlXV_2Ura0"
      },
      "execution_count": null,
      "outputs": []
    },
    {
      "cell_type": "code",
      "source": [
        "data.isnull().sum()"
      ],
      "metadata": {
        "id": "KAXD3JfPVR5p"
      },
      "execution_count": null,
      "outputs": []
    },
    {
      "cell_type": "code",
      "source": [
        "data.set_index('eventId', inplace=True)\n",
        "data.head()"
      ],
      "metadata": {
        "id": "0GRSVYQtVWR2"
      },
      "execution_count": null,
      "outputs": []
    },
    {
      "cell_type": "code",
      "source": [
        "data['uuid'].unique(), data['timezone'].unique()"
      ],
      "metadata": {
        "id": "407j0UZ5WVge"
      },
      "execution_count": null,
      "outputs": []
    },
    {
      "cell_type": "code",
      "source": [
        "data.drop(columns=['uuid','timezone'], inplace=True)"
      ],
      "metadata": {
        "id": "Wm0q5hJuXLq6"
      },
      "execution_count": null,
      "outputs": []
    },
    {
      "cell_type": "code",
      "source": [
        "data.head()"
      ],
      "metadata": {
        "id": "GbZDQ4ZjYSQk"
      },
      "execution_count": null,
      "outputs": []
    },
    {
      "cell_type": "code",
      "source": [
        "import matplotlib.pyplot as plt\n",
        "plt.hist(df['eventCount'], bins=10)\n",
        "plt.xlabel(\"Event Count\")\n",
        "plt.ylabel(\"Frequency\")\n",
        "plt.title('Distribution of Event Counts')\n",
        "plt.show()"
      ],
      "metadata": {
        "id": "VcjC600LYUvB"
      },
      "execution_count": null,
      "outputs": []
    },
    {
      "cell_type": "code",
      "source": [
        "a= data['eventCount'].unique()"
      ],
      "metadata": {
        "id": "f9UUQatEbSd7"
      },
      "execution_count": null,
      "outputs": []
    },
    {
      "cell_type": "code",
      "source": [
        "data['timestamp'] = pd.to_datetime(df['timestamp'], unit='ms')"
      ],
      "metadata": {
        "id": "6rr8-e5Obrgi"
      },
      "execution_count": null,
      "outputs": []
    },
    {
      "cell_type": "code",
      "source": [
        "data"
      ],
      "metadata": {
        "id": "wxe5pMMrd9bH"
      },
      "execution_count": null,
      "outputs": []
    },
    {
      "cell_type": "code",
      "source": [
        "data['timestamp'].nunique()"
      ],
      "metadata": {
        "id": "K2q7EnngeALg"
      },
      "execution_count": null,
      "outputs": []
    },
    {
      "cell_type": "code",
      "source": [
        "# Group the data by timestamp and sum the eventCount within each group\n",
        "time_series = data.groupby('timestamp')['eventCount'].sum()\n",
        "\n",
        "# Extract timestamps and event counts\n",
        "timestamps = time_series.index\n",
        "event_counts = time_series.values\n",
        "\n",
        "# Create a bar graph\n",
        "plt.figure(figsize=(12, 6))  # Adjust the figure size as needed\n",
        "plt.bar(timestamps, event_counts, width=0.01)  # Adjust the width of bars as needed\n",
        "\n",
        "# Customize the x-axis labels to display full date and time\n",
        "plt.xticks(rotation=45, fontsize=6)\n",
        "plt.gca().xaxis.set_major_formatter(plt.FixedFormatter(timestamps.strftime('%d-%m-%Y %H:%M:%S')))\n",
        "\n",
        "plt.xlabel('Timestamp')\n",
        "plt.ylabel('Total Event Count')\n",
        "plt.title('Total Event Count Over Time (Bar Graph)')\n",
        "plt.grid(axis='y', linestyle='--', alpha=0.7)\n",
        "plt.tight_layout()\n",
        "\n",
        "plt.show()"
      ],
      "metadata": {
        "id": "Y0qi1KYmeocw"
      },
      "execution_count": null,
      "outputs": []
    },
    {
      "cell_type": "code",
      "source": [
        "max(time_series)"
      ],
      "metadata": {
        "id": "8ytSNunLhSu2"
      },
      "execution_count": null,
      "outputs": []
    },
    {
      "cell_type": "code",
      "source": [
        "data['date']=df['timestamp'].dt.date"
      ],
      "metadata": {
        "id": "DBcARnWrk66N"
      },
      "execution_count": null,
      "outputs": []
    },
    {
      "cell_type": "code",
      "source": [
        "data['time']= df['timestamp'].dt.time"
      ],
      "metadata": {
        "id": "pfFfSCkbmAct"
      },
      "execution_count": null,
      "outputs": []
    },
    {
      "cell_type": "code",
      "source": [
        "# Group the data by ipAddress and sum the eventCount within each group\n",
        "add_series = data.groupby('ipAddress')['eventCount'].sum()\n",
        "\n",
        "# Extract ipAddress and event counts\n",
        "ipAddress = add_series.index\n",
        "event_counts = add_series.values\n",
        "\n",
        "# Create a bar graph\n",
        "plt.figure(figsize=(12, 6))  # Adjust the figure size as needed\n",
        "plt.bar(ipAddress, event_counts, width=0.08)  # Adjust the width of bars as needed\n",
        "\n",
        "# Customize the x-axis labels to display full ipAddress\n",
        "plt.xticks(rotation=45, fontsize=6)\n",
        "\n",
        "plt.xlabel('ipAddress')\n",
        "plt.ylabel('Total Event Count')\n",
        "plt.title('Total Event Count Over ipAddress (Bar Graph)')\n",
        "plt.grid(axis='y', linestyle='--', alpha=0.7)\n",
        "plt.tight_layout()\n",
        "\n",
        "plt.show()"
      ],
      "metadata": {
        "id": "Hw4loecPmL87"
      },
      "execution_count": null,
      "outputs": []
    },
    {
      "cell_type": "markdown",
      "source": [
        "From above it is Clear that 104.14.128.49 places maximum number of orders"
      ],
      "metadata": {
        "id": "XZVzJ_wNwDE9"
      }
    },
    {
      "cell_type": "code",
      "source": [
        "# Define time quarter categories (morning, afternoon, evening, night)\n",
        "time_quarters = {\n",
        "    (0, 5): 'Night',\n",
        "    (6, 11): 'Morning',\n",
        "    (12, 17): 'Afternoon',\n",
        "    (18, 23): 'Evening'\n",
        "}\n",
        "\n",
        "# Categorize the time component into time quarters\n",
        "def categorize_time(time):\n",
        "    for (start, end), quarter in time_quarters.items():\n",
        "        if start <= time.hour <= end:\n",
        "            return quarter\n",
        "\n",
        "df['time_quarter'] = data['time'].apply(categorize_time)\n",
        "\n",
        "# Group the data by 'time_quarter' and sum the eventCount within each group\n",
        "time_quarterly_counts = data.groupby('time_quarter')['eventCount'].sum()\n",
        "\n",
        "# Create a pie chart for the event count distribution by time quarter\n",
        "plt.figure(figsize=(6, 6))  # Adjust the figure size as needed\n",
        "plt.pie(time_quarterly_counts, labels=time_quarterly_counts.index, autopct='%1.1f%%', startangle=140)\n",
        "plt.axis('equal')  # Equal aspect ratio ensures that pie is drawn as a circle.\n",
        "\n",
        "plt.title('Total Event Count by Time Quarter')\n",
        "plt.show()\n"
      ],
      "metadata": {
        "id": "ReBWJSHUqTHy"
      },
      "execution_count": null,
      "outputs": []
    },
    {
      "cell_type": "markdown",
      "source": [
        "According to this Chart Maximum Deliveries done in night followed by evening, afternoon and morning."
      ],
      "metadata": {
        "id": "MfqeTB55vpFV"
      }
    },
    {
      "cell_type": "code",
      "source": [
        "# Group the data by date and sum the eventCount for each day\n",
        "daily_counts = data.groupby('date')['eventCount'].sum()\n",
        "\n",
        "# Find the day with the maximum eventCount\n",
        "max_day = daily_counts.idxmax()\n",
        "max_event_count = daily_counts[max_day]\n",
        "\n",
        "# Create a bar graph for eventCounts by day\n",
        "plt.figure(figsize=(12, 6))  # Adjust the figure size as needed\n",
        "plt.bar(daily_counts.index, daily_counts.values)\n",
        "plt.xlabel('Date')\n",
        "plt.ylabel('Total Event Count')\n",
        "plt.title('Total Event Count by Day')\n",
        "plt.xticks(rotation=45)\n",
        "\n",
        "# Highlight the day with the maximum eventCount\n",
        "plt.axvline(x=max_day, color='red', linestyle='--', label=f'Max: {max_event_count} events')\n",
        "plt.legend()\n",
        "\n",
        "plt.show()"
      ],
      "metadata": {
        "id": "8YNRpb5Wq_AK"
      },
      "execution_count": null,
      "outputs": []
    },
    {
      "cell_type": "code",
      "source": [
        "daily_counts.sort_values"
      ],
      "metadata": {
        "id": "nr-8fwG4t5D6"
      },
      "execution_count": null,
      "outputs": []
    },
    {
      "cell_type": "markdown",
      "source": [
        "Maximum event count or the delivery taken place on **29-07-2023** i.e. on the day of Muharram.\n",
        "\n",
        "It is evident that an unusually high number of deliveries occur whenever there is a festival holiday on that day or when a festival is in close proximity.\n",
        "\n",
        "\n",
        "This occurs because e-commerce giants like Amazon and Flipkart schedule their sales events before these unusual delivery dates.\n",
        "For e.g. Amazon Prime Day Sale was on 23rd to 24th July."
      ],
      "metadata": {
        "id": "s4IFYl8DyFBi"
      }
    },
    {
      "cell_type": "code",
      "source": [
        "grouped_data = data.groupby(['latitude', 'longitude'])['eventCount'].sum().reset_index()\n",
        "plt.figure(figsize=(12, 8))  # Adjust the figure size as needed\n",
        "plt.scatter(grouped_data['longitude'], grouped_data['latitude'], c=grouped_data['eventCount'], cmap='viridis', s=grouped_data['eventCount']/100)\n",
        "plt.colorbar(label='Sum of Event Count')\n",
        "plt.xlabel('Longitude')\n",
        "plt.ylabel('Latitude')\n",
        "plt.title('Event Count by Latitude and Longitude')\n",
        "\n",
        "plt.show()"
      ],
      "metadata": {
        "id": "5rBM_vIzxZFX"
      },
      "execution_count": null,
      "outputs": []
    },
    {
      "cell_type": "code",
      "source": [
        "max_event_counts = df.groupby('eventFlag')['eventCount'].max()\n",
        "\n",
        "# Create a bar graph to visualize the maximum 'eventCount' for each 'eventFlag'\n",
        "plt.figure(figsize=(12, 6))  # Adjust the figure size as needed\n",
        "max_event_counts.plot(kind='bar', color='skyblue')\n",
        "plt.xlabel('Event Flag')\n",
        "plt.ylabel('Maximum Event Count')\n",
        "plt.title('Maximum Event Count by Event Flag')\n",
        "\n",
        "plt.xticks(rotation=90, fontsize=8)  # Rotate x-axis labels if needed\n",
        "plt.tight_layout()\n",
        "\n",
        "plt.show()\n"
      ],
      "metadata": {
        "id": "qeKZQyMAzRx2"
      },
      "execution_count": null,
      "outputs": []
    },
    {
      "cell_type": "markdown",
      "source": [
        "From above graph it is clear that maximum number of people recieve delivery of flagEvent 33587200 and 33619968"
      ],
      "metadata": {
        "id": "sjdPpDcy5qkf"
      }
    },
    {
      "cell_type": "code",
      "source": [
        "average_event_count = data['eventCount'].mean()\n",
        "print(f\"The average eventCount is: {average_event_count:.2f}\")"
      ],
      "metadata": {
        "id": "tJe17jMC9Jcl"
      },
      "execution_count": null,
      "outputs": []
    },
    {
      "cell_type": "markdown",
      "source": [
        "That means average delivery done by delivery person per day is 3."
      ],
      "metadata": {
        "id": "nXhEVMpP9tW8"
      }
    }
  ]
}